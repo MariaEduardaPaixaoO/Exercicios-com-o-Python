{
  "nbformat": 4,
  "nbformat_minor": 0,
  "metadata": {
    "colab": {
      "provenance": [],
      "authorship_tag": "ABX9TyOBoYSigEST1Axx1gkcM/4c",
      "include_colab_link": true
    },
    "kernelspec": {
      "name": "python3",
      "display_name": "Python 3"
    },
    "language_info": {
      "name": "python"
    }
  },
  "cells": [
    {
      "cell_type": "markdown",
      "metadata": {
        "id": "view-in-github",
        "colab_type": "text"
      },
      "source": [
        "<a href=\"https://colab.research.google.com/github/MariaEduardaPaixaoO/Exercicios-com-o-Python/blob/main/Exerc%C3%ADcios_Python_MariaEduardaPaix%C3%A3o_A_6.ipynb\" target=\"_parent\"><img src=\"https://colab.research.google.com/assets/colab-badge.svg\" alt=\"Open In Colab\"/></a>"
      ]
    },
    {
      "cell_type": "markdown",
      "source": [
        "#  **LISTA DE EXERCÍCIOS COM PYTHON**"
      ],
      "metadata": {
        "id": "H7JCQabcKxOF"
      }
    },
    {
      "cell_type": "markdown",
      "source": [
        "1- Calculadora de Médias\n",
        "\n",
        "**Enunciado:** Crie um programa que calcule a média aritmética de uma lista de números fornecida pelo usuário. O programa deve permitir que o usuário insira quantos números desejar e, ao final, exibir a média dos números inseridos."
      ],
      "metadata": {
        "id": "Y5AlbiuDXqOx"
      }
    },
    {
      "cell_type": "code",
      "execution_count": null,
      "metadata": {
        "colab": {
          "base_uri": "https://localhost:8080/"
        },
        "id": "Ub8r5CWMXmSD",
        "outputId": "87777b8a-9946-44da-d017-b35e6a53e51c"
      },
      "outputs": [
        {
          "output_type": "stream",
          "name": "stdout",
          "text": [
            "Calculadora de Médias\n",
            "Digite um número por vez.\n",
            "Quando quiser parar, digite 'fim' e pressione Enter.\n",
            "\n",
            "digite o numero (ou 'fim' para encerrar): 10\n",
            "digite o numero (ou 'fim' para encerrar): 20\n",
            "digite o numero (ou 'fim' para encerrar): 45\n",
            "digite o numero (ou 'fim' para encerrar): fim\n",
            "\n",
            "Você digitou: [10.0, 20.0, 45.0]\n",
            "Quantidade de números: 3\n",
            "Média: 25.00\n"
          ]
        }
      ],
      "source": [
        "print(\"Calculadora de Médias\")\n",
        "print(\"Digite um número por vez.\")\n",
        "print(\"Quando quiser parar, digite 'fim' e pressione Enter.\\n\")\n",
        "\n",
        "numeros = []\n",
        "\n",
        "while True:\n",
        "    entrada = input(\"digite o numero (ou 'fim' para encerrar): \")\n",
        "    # condição de parada\n",
        "    if entrada.lower() == \"fim\":\n",
        "        break\n",
        "    # tenta converter para número\n",
        "    try:\n",
        "        numero = float(entrada.replace(\",\", \".\"))  # aceita vírgula ou ponto\n",
        "        numeros.append(numero)\n",
        "    except ValueError:\n",
        "        print(\"Valor inválido! Digite um número válido.\")\n",
        "\n",
        "# cálculo da média\n",
        "if numeros:\n",
        "    media = sum(numeros) / len(numeros)\n",
        "    print(\"\\nVocê digitou:\", numeros)\n",
        "    print(f\"Quantidade de números: {len(numeros)}\")\n",
        "    print(f\"Média: {media:.2f}\")\n",
        "else:\n",
        "    print(\"\\nNenhum número foi digitado. Não há média para calcular.\")\n"
      ]
    },
    {
      "cell_type": "markdown",
      "source": [
        "2- Contador de Caracteres\n",
        "\n",
        "**Enunciado:** Desenvolva um script que conte quantas vezes cada caractere aparece em uma string fornecida pelo usuário. O programa deve ignorar espaços e diferenciar maiúsculas de minúsculas."
      ],
      "metadata": {
        "id": "oEiWJQ9MuiqN"
      }
    },
    {
      "cell_type": "code",
      "source": [
        "#exibe o titulo do programa\n",
        "print(\"Contador de Caracter\")\n",
        "\n",
        "# pedi para o usuario digitar uma frase\n",
        "texto = input(\"Digite uma frase: \")\n",
        "\n",
        "#cria uma string sem espaço e transforma todas em minúsculas.\n",
        "texto_semEspaco = texto.replace(\" \", \"\").lower()\n",
        "\n",
        "#cria um dicionario vazio para armazenar a string\n",
        "contador = {}\n",
        "\n",
        "#percorre cada caractere do texto_semEspaco. o for serve para pegar cada letra individualmente e a armazenar na variavel char.\n",
        "for char in texto_semEspaco:\n",
        "\n",
        "  #Verifica se o caractere já está armazenado no contador. e o if serve para verificae ae existe aquela petra no dicionário.\n",
        "  if char in contador:\n",
        "\n",
        "    #se o caractere existe no dicionario, ele soma 1 ao valor que ja tem.\n",
        "    contador[char] += 1\n",
        "    #caso o caractere ainda não exista no dicionário, cria-se uma nova chave e atribui o valor 1.\n",
        "  else:\n",
        "    contador[char] = 1\n",
        "\n",
        "#mostra o título da lista.\n",
        "print(\"\\nContador de caracteres: \")\n",
        "# percorre o dicionario pegando tanto a letra quanto o valor de cada item.\n",
        "for caractere, quantidade in contador.items():\n",
        "\n",
        "  #Exibe o caractere e a quantidade de vezes que ele apareceu.\n",
        "  print(f\"{caractere}: {quantidade}\")\n",
        "\n"
      ],
      "metadata": {
        "colab": {
          "base_uri": "https://localhost:8080/"
        },
        "id": "UgmYXD7suoTl",
        "outputId": "ff222951-e961-4aff-e9ef-93abb30f6bcf"
      },
      "execution_count": null,
      "outputs": [
        {
          "output_type": "stream",
          "name": "stdout",
          "text": [
            "Contador de Caracter\n",
            "Digite uma frase: Maria ama comer maça\n",
            "\n",
            "Contador de caracteres: \n",
            "m: 4\n",
            "a: 6\n",
            "r: 2\n",
            "i: 1\n",
            "c: 1\n",
            "o: 1\n",
            "e: 1\n",
            "ç: 1\n"
          ]
        }
      ]
    },
    {
      "cell_type": "markdown",
      "source": [],
      "metadata": {
        "id": "P14hS1Q336ws"
      }
    },
    {
      "cell_type": "markdown",
      "source": [
        "3- Verificador de Palíndromo\n",
        "\n",
        "**Enunciado:** Escreva um programa que verifique se uma palavra ou frase (ignorando espaços e pontuações) é um palíndromo, ou seja, se ela é igual quando lida de trás para frente."
      ],
      "metadata": {
        "id": "_Z7_V5km3qwz"
      }
    },
    {
      "cell_type": "code",
      "source": [
        "#importa o modulo string, que contem constantes muito úteis relacionadas a caracteres, com por exemplo a pontuação.\n",
        "import string\n",
        "\n",
        "#titulo do programa\n",
        "print(\"Verificador de Palíndromo!\")\n",
        "#pedi ao usuario uma palavra ou frase que tenha ou não um palindromo.\n",
        "texto = input (\"digite uma palavra ou uma frase: \")\n",
        "\n",
        "#tranforma todo o input em letra minuscula.\n",
        "texto = texto.lower()\n",
        "\n",
        "#cria uma nova string contendo apenas letras e números, sem espaços ou pontuação.\n",
        "texto_limpo = \"\".join(char.lower() for char in texto if char.isalnum())\n",
        "\n",
        "#divide a string em uma lista de palavras\n",
        "palavras = texto_limpo.split()\n",
        "\n",
        "#cria uma lista para armazenar palavras que forem palindromos.\n",
        "palindromos_encontrados = []\n",
        "\n",
        "#faz a verificação para saber se um palindromo ou não.\n",
        "for palavra in palavras:\n",
        "\n",
        "  #verifica se tem palavras de apenas uma letra, e a ingnora por não ser considerada um palindromo,e verifica sua versão invertida, com o fatiamento ([::-1]).\n",
        "  if len(palavra) > 1 and palavra == palavra[::-1]:\n",
        "\n",
        "    #adiciona a lista\n",
        "    palindromos_encontrados.append(palavra)\n",
        "\n",
        "if palindromos_encontrados:\n",
        "\n",
        "  print(f\"possui palindromos!!\")\n",
        "else:\n",
        "  print(\"não é um palindromo.\")\n",
        "#no final é informado se a palavra ou a frase possui palindromos ou não.\n"
      ],
      "metadata": {
        "colab": {
          "base_uri": "https://localhost:8080/"
        },
        "id": "512XHBGc38ML",
        "outputId": "f3cf3f7a-4f6d-4efd-8adc-0d96a30a9ea3"
      },
      "execution_count": null,
      "outputs": [
        {
          "output_type": "stream",
          "name": "stdout",
          "text": [
            "Verificador de Palíndromo!\n",
            "digite uma palavra ou uma frase: eu gosto de asa\n",
            "possui palindromos!!:\n"
          ]
        }
      ]
    },
    {
      "cell_type": "markdown",
      "source": [
        "4- Conversor de Temperatura\n",
        "\n",
        "**Enunciado:** Crie um conversor que transforme temperaturas de Celsius para Fahrenheit e vice-versa. O programa deve permitir que o usuário escolha o tipo de conversão e insira a temperatura."
      ],
      "metadata": {
        "id": "_qHHi8j9EtBY"
      }
    },
    {
      "cell_type": "code",
      "source": [
        "#Apresneta instruções basicas do uso do programa.\n",
        "print(\"Conversor de Temperatura!\")\n",
        "print(\"1- De Celsius para Fahrenheit.\")\n",
        "print(\"2- De Fahrenheit para Celsius.\")\n",
        "\n",
        "#pede ao usuario escolher o tipo de conversão.\n",
        "conversao = input(\"Escolha o tipo de conversão (1 ou 2): \")\n",
        "\n",
        "#se for escolhido a opçao 1, a conversão de De Celsius para Fahrenheit vai ser efetuada\n",
        "if conversao == \"1\":\n",
        "#pedi ao usuario digitar a temperatura ser convertida.\n",
        "  celsius = float(input(\"digite a temperatura em Celsius: \"))\n",
        "\n",
        "  #efetua a logica da conversão.\n",
        "  fahrenheit = (celsius * 9/5) + 32\n",
        "  # mostra na tela a resposta.\n",
        "  print(f\"{celsius}°C equivalem a {fahrenheit:.2f}°F\")\n",
        "  # faz a mesma verificação para o segundo tipo de conversão do programa.\n",
        "elif conversao == \"2\":\n",
        "  fahrenheit = float(input(\"digite a temperatura em Fahrenheit: \"))\n",
        "  celsius = (fahrenheit - 32) * 5/9\n",
        "  print(f\"{fahrenheit}°F equivalem a {celsius:.2f}°C\")\n",
        "\n",
        "  #se o usuario digital qualquer outra coisa a opção será invalida.\n",
        "else:\n",
        "  print(\"opção invalida.\")\n",
        "\n",
        "\n",
        "\n",
        "\n",
        "\n",
        "\n",
        "\n",
        "\n",
        "\n",
        "\n"
      ],
      "metadata": {
        "colab": {
          "base_uri": "https://localhost:8080/"
        },
        "id": "KQ5AeijSExgO",
        "outputId": "26d84005-c587-41d8-e790-8217882723f0"
      },
      "execution_count": null,
      "outputs": [
        {
          "output_type": "stream",
          "name": "stdout",
          "text": [
            "Conversor de Temperatura!\n",
            "1- De Celsius para Fahrenheit.\n",
            "2- De Fahrenheit para Celsius.\n",
            "Escolha o tipo de conversão (1 ou 2): 1\n",
            "digite a temperatura em Celsius: 23\n",
            "23.0°C equivalem a 73.40°F\n"
          ]
        }
      ]
    },
    {
      "cell_type": "markdown",
      "source": [
        "5- Gerador de Tabuada\n",
        "\n",
        "**Enunciado:** Desenvolva um programa que gere a tabuada de um número fornecido pelo usuário. O programa deve exibir a multiplicação de 1 até 10 para o número informado."
      ],
      "metadata": {
        "id": "yyKuWLSPIvj2"
      }
    },
    {
      "cell_type": "code",
      "source": [
        "# titulo do programa\n",
        "print(\"Gereador de Tabuada!!\")\n",
        "\n",
        "# o usuario insere o numero da tabuada que ele deseja ver.\n",
        "numero = int(input(\"Insira uma número que você deseja ver a tabuada: \"))\n",
        "\n",
        "print(f\"\\nTabuada do {numero}:\\n\")\n",
        "\n",
        "#cria um loop que se repete do 1 até o 10\n",
        "for i in range(1, 11):\n",
        "  #É armazenada a multiplicação dos valores ao resultado.\n",
        "  resultado = numero * i\n",
        "\n",
        "  #printa na tela o resultado da multiplicação.\n",
        "  print(f\"{numero} x {i} = {resultado}\")\n"
      ],
      "metadata": {
        "colab": {
          "base_uri": "https://localhost:8080/"
        },
        "id": "v8uZEUk_I7Gg",
        "outputId": "c0b0f974-4d7b-420f-99c0-75cdcb96c603"
      },
      "execution_count": null,
      "outputs": [
        {
          "output_type": "stream",
          "name": "stdout",
          "text": [
            "Gereador de Tabuada!!\n",
            "Insira uma número que você deseja ver a tabuada: 5\n",
            "\n",
            "Tabuada do 5:\n",
            "\n",
            "5 x 1 = 5\n",
            "5 x 2 = 10\n",
            "5 x 3 = 15\n",
            "5 x 4 = 20\n",
            "5 x 5 = 25\n",
            "5 x 6 = 30\n",
            "5 x 7 = 35\n",
            "5 x 8 = 40\n",
            "5 x 9 = 45\n",
            "5 x 10 = 50\n"
          ]
        }
      ]
    },
    {
      "cell_type": "markdown",
      "source": [
        "6- Simulador de Lançamento de Dados\n",
        "\n",
        "**Enunciado:** Escreva um script que simule o lançamento de um dado de 6 faces. O programa deve solicitar ao usuário quantas vezes ele deseja lançar o dado e mostrar os resultados de cada lançamento.\n"
      ],
      "metadata": {
        "id": "qScHcnmGY-6s"
      }
    },
    {
      "cell_type": "code",
      "source": [
        "#inporta funções para gerar numeros aleatorios\n",
        "import random\n",
        "\n",
        "#apresenta o simulador\n",
        "print(\"Simulador de Lançamento de Dados\")\n",
        "\n",
        "#o usuario digita a quantidade vezes que ele deseja lançar o dado.\n",
        "lancamentos= int(input(\"digite a quantidade de vezes q você deseja lançar o dado: \"))\n",
        "\n",
        "#cria um  loop que será repetido para cada lançamento do dado.\n",
        "for i in range(1, lancamentos + 1):\n",
        "  #gera um numero inteiro e aleatorio entre 1 e 6.\n",
        "  resultado = random.randint(1, 6)\n",
        "\n",
        "  #mostra o resultado.\n",
        "  print(f\"Lançamento {i}: {resultado}\")\n",
        "\n"
      ],
      "metadata": {
        "colab": {
          "base_uri": "https://localhost:8080/"
        },
        "id": "-B9kPm9nZMNs",
        "outputId": "3e86d2f7-c3d5-4944-a18e-079ce31be4e7"
      },
      "execution_count": null,
      "outputs": [
        {
          "output_type": "stream",
          "name": "stdout",
          "text": [
            "Simulador de Lançamento de Dados\n",
            "digite a quantidade de vezes q você deseja lançar o dado: 5\n",
            "Lançamento 1: 3\n",
            "Lançamento 2: 1\n",
            "Lançamento 3: 5\n",
            "Lançamento 4: 1\n",
            "Lançamento 5: 1\n"
          ]
        }
      ]
    },
    {
      "cell_type": "markdown",
      "source": [
        "7- Ordenação de Lista\n",
        "\n",
        "**Enunciado:**Desenvolva um programa que receba uma lista de números do usuário e ordene essa lista em ordem crescente. O programa deve exibir a lista antes e depois da ordenação."
      ],
      "metadata": {
        "id": "fHf2gMaFb5CO"
      }
    },
    {
      "cell_type": "code",
      "source": [
        "#Apresenta o programa\n",
        "print(\"Ordenação de Lista\")\n",
        "\n",
        "#pede ao usuario para inserir os numeros\n",
        "entrada = input(\"digite os numeros separados por espaço: \")\n",
        "#aqui vai converter a entrada em uma lista de numeros inteiros\n",
        "lista = [int(num) for num in entrada.split()]\n",
        "\n",
        "print(\"Lista desordenada:\", lista)\n",
        "\n",
        "#Ordena alista desordenada em ordem crescente.\n",
        "lista.sort()\n",
        "#mostra o resultado final.\n",
        "print(\"Lista ordenada\", lista)\n",
        "\n"
      ],
      "metadata": {
        "colab": {
          "base_uri": "https://localhost:8080/"
        },
        "id": "6sxcatsfb_7S",
        "outputId": "0351fe0d-fa9f-47f5-8a82-0e4230e6fdb1"
      },
      "execution_count": null,
      "outputs": [
        {
          "output_type": "stream",
          "name": "stdout",
          "text": [
            "Ordenação de Lista\n",
            "digite os numeros separados por espaço: 1 4 7 5 9 3 2\n",
            "Lista desordenada: [1, 4, 7, 5, 9, 3, 2]\n",
            "Lista ordenada [1, 2, 3, 4, 5, 7, 9]\n"
          ]
        }
      ]
    },
    {
      "cell_type": "markdown",
      "source": [
        "8- Verificador de Números Primos\n",
        "\n",
        "**Enunciado:** Crie um programa que determine se um número fornecido pelo usuário é primo. O programa deve informar se o número é primo ou não e listar todos os divisores do número."
      ],
      "metadata": {
        "id": "tuABJJBPd7MV"
      }
    },
    {
      "cell_type": "code",
      "source": [
        "print(\"Verificador de Numeros Primos\")\n",
        "\n",
        "numero = int(input(\"digite um numero: \"))\n",
        "\n",
        "#cria uma lista vazia chamada divisores para guardar os numeros que dividem o numero informado.\n",
        "divisores= []\n",
        "\n",
        "#cria um loop que começa em 1 e vai ate o numero digitado.\n",
        "for i in range(1, numero + 1):\n",
        "#faz a operação para saber se o resto da divisão é igual azero\n",
        "  if numero % i == 0:\n",
        "\n",
        "    #adiciona na lista divisores\n",
        "    divisores.append(i)\n",
        "\n",
        "#conta quantos divisores a lista tem\n",
        "if len(divisores) == 2:\n",
        "  print(f\"{numero} é um numero primo\")\n",
        "else:\n",
        "  print(f\"{numero} não é um numero primo\")\n",
        "\n",
        "print(f\"divisores de {numero}: {divisores}\")\n",
        "\n",
        "#printa o resultado final.\n",
        "\n",
        "\n",
        "\n",
        "\n",
        "\n",
        "\n",
        "\n",
        "\n"
      ],
      "metadata": {
        "colab": {
          "base_uri": "https://localhost:8080/"
        },
        "id": "fuDJnkqZeDQt",
        "outputId": "b88ba865-4fa6-40e3-e2fd-2a000a47cf93"
      },
      "execution_count": null,
      "outputs": [
        {
          "output_type": "stream",
          "name": "stdout",
          "text": [
            "Verificador de Numeros Primos\n",
            "digite um numero: 3\n",
            "3 é um numero primo\n",
            "divisores de 3: [1, 3]\n"
          ]
        }
      ]
    },
    {
      "cell_type": "markdown",
      "source": [],
      "metadata": {
        "id": "avC7SeXLY-4g"
      }
    },
    {
      "cell_type": "markdown",
      "source": [
        "9- Sistema de Login Simples\n",
        "\n",
        "**Enunciado:** Implemente um sistema de login simples que armazene os nomes de usuário e senhas em um dicionário. O programa deve permitir que o usuário se cadastre e faça login, validando as credenciais inseridas."
      ],
      "metadata": {
        "id": "6NfZyDVUhz_S"
      }
    },
    {
      "cell_type": "code",
      "source": [],
      "metadata": {
        "id": "mRpFTd9-mKk7"
      },
      "execution_count": null,
      "outputs": []
    },
    {
      "cell_type": "code",
      "source": [
        "#Cria um dicionario vazio.\n",
        "usuarios = {}\n",
        "\n",
        "#função cadastrar\n",
        "def cadastrar():\n",
        "    print(\"\\nCadastro de Usuário\")\n",
        "    usuario = input(\"Digite o nome do usuário: \")\n",
        "\n",
        "    #Verifica se o usuario já está na lista.\n",
        "    if usuario in usuarios:\n",
        "        print(\"Usuário já existe! Tente novamente.\")\n",
        "        return\n",
        "\n",
        "    # Essas linhas estão fora do if\n",
        "    senha = input(\"Digite a senha: \")\n",
        "\n",
        "    #Adiciona usuario e senha na lista.\n",
        "    usuarios[usuario] = senha\n",
        "    print(f\"Usuário '{usuario}' cadastrado com sucesso!\")\n",
        "\n",
        "#função do login\n",
        "def login():\n",
        "  print(\"\\nLogin\")\n",
        "  usuario = input(\"digite o nome de usuario: \")\n",
        "  senha = input(\"digite a senha: \")\n",
        "\n",
        "  #Verifica duas condições, se o usuário existe no dicionário e se a senha digitada corresponde à senha cadastrada.\n",
        "  if usuario in usuarios and usuarios[usuario] == senha:\n",
        "    print(f\"Login realizado com sucesso! Bem-vindo, {usuario}!\")\n",
        "\n",
        "  else:\n",
        "    print(\"Usuario ou senha incorretos!!\")\n",
        "\n",
        "#função do menu\n",
        "def menu():\n",
        "  while True:\n",
        "    print(\"\\nSistema de Login\")\n",
        "    print(\"1. Cadastrar\")\n",
        "    print(\"2. Login\")\n",
        "    print(\"3. Sair\")\n",
        "\n",
        "#o usuario seleciona uma opção para continuar\n",
        "    opcao = input(\"escolha uma opção: \")\n",
        "\n",
        "    if opcao == \"1\":\n",
        "      cadastrar()\n",
        "    elif opcao == \"2\":\n",
        "      login()\n",
        "    elif opcao == \"3\":\n",
        "      print(\"Saindo do Sistemas..\")\n",
        "      break\n",
        "    else:\n",
        "      print(\"Opção invalida. Tente Novamente!\")\n",
        "#Executa o menu principal e inicia o sistema.\n",
        "menu()\n"
      ],
      "metadata": {
        "colab": {
          "base_uri": "https://localhost:8080/"
        },
        "id": "nKdo24cnh7Xk",
        "outputId": "52c7f7bb-9ca2-4a7e-cacf-4c8324f2950a"
      },
      "execution_count": null,
      "outputs": [
        {
          "output_type": "stream",
          "name": "stdout",
          "text": [
            "\n",
            "Sistema de Login\n",
            "1. Cadastrar\n",
            "2. Login\n",
            "3. Sair\n",
            "escolha uma opção: 1\n",
            "\n",
            "Cadastro de Usuário\n",
            "Digite o nome do usuário: maria\n",
            "Digite a senha: caixaa\n",
            "Usuário 'maria' cadastrado com sucesso!\n",
            "\n",
            "Sistema de Login\n",
            "1. Cadastrar\n",
            "2. Login\n",
            "3. Sair\n",
            "escolha uma opção: 2\n",
            "\n",
            "Login\n",
            "digite o nome de usuario: maria\n",
            "digite a senha: aaaa\n",
            "Usuario ou senha incorretos!!\n",
            "\n",
            "Sistema de Login\n",
            "1. Cadastrar\n",
            "2. Login\n",
            "3. Sair\n",
            "escolha uma opção: 2\n",
            "\n",
            "Login\n",
            "digite o nome de usuario: maria\n",
            "digite a senha: caixaa\n",
            "Login realizado com sucesso! Bem-vindo, maria!\n",
            "\n",
            "Sistema de Login\n",
            "1. Cadastrar\n",
            "2. Login\n",
            "3. Sair\n",
            "escolha uma opção: 3\n",
            "Saindo do Sistemas..\n"
          ]
        }
      ]
    },
    {
      "cell_type": "markdown",
      "source": [
        "10- Calculadora de Fatorial\n",
        "\n",
        "**Enunciado:** Escreva um programa que calcule o fatorial de um número fornecido pelo usuário utilizando um loop for. O programa deve exibir o resultado do fatorial ao final."
      ],
      "metadata": {
        "id": "McKY3s87nm1M"
      }
    },
    {
      "cell_type": "code",
      "source": [
        "#Apresenta o programa\n",
        "print(\"Calculadora Fatorial\")\n",
        "\n",
        "#pede ao usuario um numero inteiro\n",
        "numero = int(input(\"digite um numero inteiro: \"))\n",
        "\n",
        "# inicia a variavel fatorial com 1\n",
        "fatorial = 1\n",
        "\n",
        "#loop para se calcular o fatorial\n",
        "for i in range(1, numero + 1):\n",
        "  fatorial *= i\n",
        "\n",
        "#mostra o resultado\n",
        "print(f\"O fatorial de {numero} é {fatorial}\")\n",
        "\n",
        "\n",
        "\n",
        "\n"
      ],
      "metadata": {
        "colab": {
          "base_uri": "https://localhost:8080/"
        },
        "id": "6pVO4JV7nrq6",
        "outputId": "f66684ca-76c6-4949-de09-7360c4cc3d27"
      },
      "execution_count": null,
      "outputs": [
        {
          "output_type": "stream",
          "name": "stdout",
          "text": [
            "Calculadora Fatorial\n",
            "digite um numero inteiro: 3\n",
            "O fatorial de 3 é 6\n"
          ]
        }
      ]
    },
    {
      "cell_type": "markdown",
      "source": [
        "11- Conversor de Moedas Simples\n",
        "\n",
        "**Enunciado:** Crie um programa que converta um valor em reais para dólares ou euros. O programa deve permitir que o usuário escolha a moeda de destino e insira o valor a ser convertido, utilizando uma taxa de câmbio fixa definida no código."
      ],
      "metadata": {
        "id": "BSdQOXXwom1x"
      }
    },
    {
      "cell_type": "code",
      "source": [
        "#Taxa de cambio fixa.\n",
        "Taxa_Dolar = 5.40\n",
        "Taxa_Euro = 6.32\n",
        "\n",
        "#Apresenta o programa e as regras.\n",
        "print(\"Conversor de Moedas\")\n",
        "print(\"escolha a moeda para conversão: \")\n",
        "print(\"1- Dolar\")\n",
        "print(\"2- Euro\")\n",
        "\n",
        "#o usuario insere uma opção\n",
        "opcao = input(\"digite a opção desejada: \").strip()\n",
        "\n",
        "# Verifica a opção antes de pedir o valor\n",
        "if opcao == \"1\" or opcao == \"2\":\n",
        "    valor_reais = float(input(\"Digite o valor em reais: \"))\n",
        "\n",
        "    if opcao == \"1\":\n",
        "      #Faz a Conversão\n",
        "        valor_conversor = valor_reais / Taxa_Dolar\n",
        "        print(f\"R$ {valor_reais:.2f} equivalem a {valor_conversor:.2f} Dólares\")\n",
        "    else:  # opcao == \"2\"\n",
        "        valor_conversor = valor_reais / Taxa_Euro\n",
        "        print(f\"R$ {valor_reais:.2f} equivalem a {valor_conversor:.2f} Euros\")\n",
        "else:\n",
        "    print(\"Opção inválida! Escolha as opções 1 ou 2.\")\n"
      ],
      "metadata": {
        "colab": {
          "base_uri": "https://localhost:8080/"
        },
        "id": "nB3Zf9D7otX1",
        "outputId": "7d422586-1d0c-4f88-9a63-cfc128a49895"
      },
      "execution_count": null,
      "outputs": [
        {
          "output_type": "stream",
          "name": "stdout",
          "text": [
            "Conversor de Moedas\n",
            "escolha a moeda para conversão: \n",
            "1- Dolar\n",
            "2- Euro\n",
            "digite a opção desejada: 1\n",
            "Digite o valor em reais: 300\n",
            "R$ 300.00 equivalem a 55.56 Dólares\n"
          ]
        }
      ]
    },
    {
      "cell_type": "markdown",
      "source": [
        "12- Contador de Palavras\n",
        "\n",
        "**Enunciado:** Desenvolva um script que conte o número de palavras em uma frase fornecida pelo usuário. O programa deve ignorar pontuações e considerar apenas as palavras separadas por espaços."
      ],
      "metadata": {
        "id": "wO6SlaoSutmn"
      }
    },
    {
      "cell_type": "code",
      "source": [
        "#importa o modolo string\n",
        "import string\n",
        "print(\"Contador de Palavras\")\n",
        "#pede ao usuario que digite uma frase\n",
        "frase = input(\"digite uma frase: \")\n",
        "\n",
        "#remove pontuações da frase.\n",
        "frase_sem_pontuacao = frase.translate(str.maketrans('','', string.punctuation))\n",
        "\n",
        "#divide a frase em palavras\n",
        "palavras = frase_sem_pontuacao.split()\n",
        "\n",
        "#conta a quantidade de palavras\n",
        "quantidade_palavras = len(palavras)\n",
        "\n",
        "#Mostra o resultado final\n",
        "print(f\"A frase possui {quantidade_palavras} palavras\")\n"
      ],
      "metadata": {
        "colab": {
          "base_uri": "https://localhost:8080/"
        },
        "id": "J4CkNA3au10o",
        "outputId": "326c72f9-f7d6-4a5d-e5cf-afca4f8dccf9"
      },
      "execution_count": null,
      "outputs": [
        {
          "output_type": "stream",
          "name": "stdout",
          "text": [
            "Contador de Palavras\n",
            "digite uma frase: eu amo doce\n",
            "A farse possui 3 palavras\n"
          ]
        }
      ]
    },
    {
      "cell_type": "markdown",
      "source": [
        "13- Gerador de Números Aleatórios\n",
        "\n",
        "**Enunciado:** Escreva um programa que gere n números aleatórios entre um intervalo fornecido pelo usuário. O programa deve solicitar o valor de n e os limites inferior e superior do intervalo."
      ],
      "metadata": {
        "id": "m2Q0aEUKwp9v"
      }
    },
    {
      "cell_type": "code",
      "source": [
        "#importa o  modulo random, que possui funções para numeros aleatórios\n",
        "import random\n",
        "\n",
        "print(\"Gerador de números aleatórios\")\n",
        "\n",
        "# Solicita ao usuário quantos números ele deseja gerar\n",
        "n = int(input(\"Digite a quantidade de números aleatórios que deseja gerar: \"))\n",
        "\n",
        "limite_inferior = int(input(\"Digite o limite inferior do intervalo: \"))\n",
        "\n",
        "limite_superior = int(input(\"Digite o limite superior do intervalo: \"))\n",
        "\n",
        "# Verifica se o limite inferior é menor que o limite superior\n",
        "if limite_inferior > limite_superior:\n",
        "  print(\"erro: o limite inferior deve ser menor ou igual ao limite superior.\")\n",
        "\n",
        "\n",
        "else:\n",
        "  # Gera 'n' números aleatórios dentro do intervalo informado\n",
        "   numero_aleatorios = []\n",
        "  #repete o processo n vezes\n",
        "   for i in range(n):\n",
        "    numero = random.randint(limite_inferior, limite_superior)\n",
        "    numero_aleatorios.append(numero)\n",
        "\n",
        "    print(\"Números aleátorios gerados:\", numero_aleatorios)\n",
        " # Exibe os números aleatórios gerados\n",
        "\n"
      ],
      "metadata": {
        "colab": {
          "base_uri": "https://localhost:8080/"
        },
        "id": "itsrA0Fcw0Nv",
        "outputId": "d7cca167-2373-45b0-9709-2fd9f22d2dbf"
      },
      "execution_count": null,
      "outputs": [
        {
          "output_type": "stream",
          "name": "stdout",
          "text": [
            "Gerador de números aleatórios\n",
            "Digite a quantidade de números aleatórios que deseja gerar: 4\n",
            "Digite o limite inferior do intervalo: 2\n",
            "Digite o limite superior do intervalo: 7\n",
            "Números aleátorios gerados: [6]\n",
            "Números aleátorios gerados: [6, 6]\n",
            "Números aleátorios gerados: [6, 6, 5]\n",
            "Números aleátorios gerados: [6, 6, 5, 4]\n"
          ]
        }
      ]
    },
    {
      "cell_type": "markdown",
      "source": [
        "14- Calculadora de Média Ponderada\n",
        "\n",
        "**Enunciado:** Implemente uma calculadora que permita ao usuário calcular a média ponderada de um conjunto de notas. O usuário deve inserir as notas e os respectivos pesos, e o programa deve calcular e exibir a média ponderada."
      ],
      "metadata": {
        "id": "FO7bc_kFzG3E"
      }
    },
    {
      "cell_type": "code",
      "source": [
        "# Apresenta o programa\n",
        "print(\"Bem-vindo à Calculadora de Média Ponderada!\")\n",
        "\n",
        "# Solicita ao usuário o número de notas\n",
        "num_notas = int(input(\"Quantas notas você deseja inserir? \"))\n",
        "\n",
        "# inicializa listas para armazenar notas e pesos\n",
        "notas = []\n",
        "pesos = []\n",
        "\n",
        "#loop aplicado para inserir cada nota e seu peso\n",
        "for i in range(1, num_notas + 1):\n",
        "    nota = float(input(f\"Digite a nota {i}: \"))\n",
        "    peso = float(input(f\"Digite o peso da nota {i}: \"))\n",
        "    notas.append(nota)\n",
        "    pesos.append(peso)\n",
        "\n",
        "# Calcula a média ponderada\n",
        "soma_ponderada = 0\n",
        "soma_pesos = 0\n",
        "for i in range(num_notas):\n",
        "    soma_ponderada += notas[i] * pesos[i]\n",
        "    soma_pesos += pesos[i]\n",
        "\n",
        "media_ponderada = soma_ponderada / soma_pesos\n",
        "print(f\"\\nA média ponderada é: {media_ponderada:.2f}\")\n",
        "# Exibe o resultado"
      ],
      "metadata": {
        "colab": {
          "base_uri": "https://localhost:8080/"
        },
        "id": "jkEl5rjqzZiD",
        "outputId": "9566edd5-313d-4235-a7a7-4bfcb1b9959e"
      },
      "execution_count": null,
      "outputs": [
        {
          "output_type": "stream",
          "name": "stdout",
          "text": [
            "Bem-vindo à Calculadora de Média Ponderada!\n",
            "Quantas notas você deseja inserir? 2\n",
            "Digite a nota 1: 4\n",
            "Digite o peso da nota 1: 5\n",
            "Digite a nota 2: 5\n",
            "Digite o peso da nota 2: 8\n",
            "\n",
            "A média ponderada é: 4.62\n"
          ]
        }
      ]
    },
    {
      "cell_type": "markdown",
      "source": [
        "15- Cálculo de Raiz Quadrada\n",
        "\n",
        "**Enunciado:** Desenvolva um programa que calcule a raiz quadrada de um número fornecido pelo usuário. Utilize a função sqrt() do módulo math e exiba o resultado."
      ],
      "metadata": {
        "id": "S6vcUAZa0WdJ"
      }
    },
    {
      "cell_type": "code",
      "source": [
        "#importa o modulo math, onde tem funções matemáticas\n",
        "import math\n",
        "\n",
        "print(\"Cálculo de Raiz Quadrada\")\n",
        "#pede ao usuário um valor\n",
        "numero = int(input(\"digite o valor para ser calculado: \"))\n",
        "\n",
        "#aqui a função sqrt é utilizada para calcular a raiz quadrada.\n",
        "raiz_quadrada = math.sqrt(numero)\n",
        "\n",
        "#exibe a resposta ao usuário\n",
        "print(f\"A raiz quadrada de {numero} é {raiz_quadrada}\")"
      ],
      "metadata": {
        "colab": {
          "base_uri": "https://localhost:8080/"
        },
        "id": "gjtoGbBM0dfo",
        "outputId": "df0318b9-f960-4b5b-ad97-288e0ace79bd"
      },
      "execution_count": null,
      "outputs": [
        {
          "output_type": "stream",
          "name": "stdout",
          "text": [
            "Cálculo de Raiz Quadrada\n",
            "digite o valor para ser calculado: 64\n",
            "A raiz quadrada de 64 é 8.0\n"
          ]
        }
      ]
    },
    {
      "cell_type": "markdown",
      "source": [
        "16- Simulador de Caixa Eletrônico\n",
        "\n",
        "**Enunciado:** Crie um programa que simule um caixa eletrônico. O usuário deve inserir o valor que deseja sacar, e o programa deve exibir quantas notas de cada valor serão entregues (R$100, R$50, R$20, R$10)."
      ],
      "metadata": {
        "id": "CzLrkIQQ1o6T"
      }
    },
    {
      "cell_type": "code",
      "source": [
        "print(\"Caixa Eletrônico\")\n",
        "\n",
        "# pede um valor ao usuario e precisa ser inteiro\n",
        "valor = int(input(\"Digite o valor (múltiplo de 10) a ser sacado: R$ \"))\n",
        "\n",
        "#Verifica se o valor não é múltiplo de 10.\n",
        "if valor % 10 != 0:\n",
        "    print(\"Valor inválido.\")\n",
        "\n",
        "#Se o valor for válido, entra no bloco que calcula as notas.\n",
        "else:\n",
        "    notas100 = valor // 100\n",
        "    valor = valor % 100\n",
        "    notas50 = valor // 50\n",
        "    valor = valor % 50\n",
        "\n",
        "    notas20 = valor // 20\n",
        "    valor = valor % 20\n",
        "    notas10 = valor // 10\n",
        "    valor = valor % 10\n",
        "#exibe o resultado\n",
        "    print(\"\\nNotas entregues:\")\n",
        "    if notas100 > 0:\n",
        "        print(f\"{notas100} nota(s) de R$100\")\n",
        "    if notas50 > 0:\n",
        "        print(f\"{notas50} nota(s) de R$50\")\n",
        "    if notas20 > 0:\n",
        "        print(f\"{notas20} nota(s) de R$20\")\n",
        "    if notas10 > 0:\n",
        "        print(f\"{notas10} nota(s) de R$10\")\n"
      ],
      "metadata": {
        "colab": {
          "base_uri": "https://localhost:8080/"
        },
        "id": "8mGTWimb1xQz",
        "outputId": "5f6ecabd-80f5-49ce-f7f6-5aab185b4b28"
      },
      "execution_count": null,
      "outputs": [
        {
          "output_type": "stream",
          "name": "stdout",
          "text": [
            "Caixa Eletrônico\n",
            "Digite o valor (múltiplo de 10) a ser sacado: R$ 300\n",
            "\n",
            "Notas entregues:\n",
            "3 nota(s) de R$100\n"
          ]
        }
      ]
    },
    {
      "cell_type": "markdown",
      "source": [
        "17- Verificador de Ano Bissexto\n",
        "\n",
        "**Enunciado:** Escreva um programa que determine se um ano fornecido pelo usuário é bissexto. O programa deve seguir as regras para anos bissextos (divisíveis por 4, exceto se divisíveis por 100, mas divisíveis por 400)."
      ],
      "metadata": {
        "id": "U_o9QoY44rYe"
      }
    },
    {
      "cell_type": "code",
      "source": [
        "#Titulo do programa\n",
        "print(\"Verificador de Ano Bissexto.\")\n",
        "\n",
        "#pede ao usuario uma ano.\n",
        "data = int(input(\"digite uma ano: \"))\n",
        "\n",
        "#aplica as regras do ano bissexto\n",
        "if (data % 4 == 0 and data % 100 != 0) or (data % 400 == 0):\n",
        "  print(f\" O ano {data} é bissexto!\")\n",
        "else:\n",
        "  print(f\"O ano {data} não é bissexto.\")\n",
        "#Mostra o resultado"
      ],
      "metadata": {
        "colab": {
          "base_uri": "https://localhost:8080/"
        },
        "id": "ULCXVRfL4xJ4",
        "outputId": "93e49b0f-ebcf-42ff-d14b-95f23da95ffe"
      },
      "execution_count": null,
      "outputs": [
        {
          "output_type": "stream",
          "name": "stdout",
          "text": [
            "Verificador de Ano Bissexto.\n",
            "digite uma ano: 2028\n",
            " O ano 2028 é bissexto!\n"
          ]
        }
      ]
    },
    {
      "cell_type": "markdown",
      "source": [
        "18- Gerenciador de Contatos Simples\n",
        "\n",
        "**Enunciado:** Desenvolva um sistema simples para gerenciar contatos, onde o usuário pode adicionar, remover e listar contatos (nome e telefone). Utilize um dicionário para armazenar os contatos."
      ],
      "metadata": {
        "id": "tHFVE9Sd6FC5"
      }
    },
    {
      "cell_type": "code",
      "source": [
        "print(\"Gerenciador de contatos Simples\")\n",
        "# Dicionário para armazenar os contatos\n",
        "contatos = {}\n",
        "\n",
        "#ele define a função adicionar_contato, que vai cuidar de cadastrar novos contatos\n",
        "\n",
        "def adicionar_contato():\n",
        "  #Pede ao usuário o nome do contato. O .strip() remove espaços extras no começo e no fim do texto\n",
        "  nome = input(\"Digite o nome do contato: \").strip()\n",
        "  telefone = input(\"digite o telefone: \").strip()\n",
        "\n",
        "#Verifica se o nome já existe no dicionário contatos\n",
        "  if nome in contatos:\n",
        "    print(\"Esse contato já existe!!\")\n",
        "  #caso o nome não esteja no dicionário, entra no else\n",
        "  else:\n",
        "    contatos[nome]= telefone\n",
        "    print(f\"Contato '{nome}' adicionado com sucesso!\")\n",
        "\n",
        "#define a função remover_contato, responsável por apagar os contatos.\n",
        "def remover_contato():\n",
        "  nome = input(\"digite o nome do contato que deseja deletar: \").strip()\n",
        "\n",
        "  #verifica se esse nome está cadastrado no dicionário.\n",
        "  if nome in contatos:\n",
        "    del contatos[nome]\n",
        "    print(f\"contato '{nome}' removido com sucesso.\")\n",
        "  else:\n",
        "    print(\"Contato não encontrado\")\n",
        "\n",
        "#Define a função listar_contatos, que vai exibir todos os contatos\n",
        "def listar_contatos():\n",
        "\n",
        "  #vai verificar se o dicionário contatos não está vazio.\n",
        "  if contatos:\n",
        "    print(\"\\n Lista de contatos:\")\n",
        "    #Percorre o dicionário contatos usando .items(), que retorna pares\n",
        "    for nome, telefone in contatos.items():\n",
        "      print(f\"{nome}: {telefone}\")\n",
        "  else:\n",
        "\n",
        "    print(\"Nenhum contato cadastrado\")\n",
        "\n",
        "#Define a função menu, que é o menu principal do programa.\n",
        "def menu():\n",
        "\n",
        "  #Cria um loop infinito\n",
        "  while True:\n",
        "        print(\"\\n GERENCIADOR DE CONTATOS\")\n",
        "        print(\"1 - Adicionar contato\")\n",
        "        print(\"2 - Remover contato\")\n",
        "        print(\"3 - Listar contatos\")\n",
        "        print(\"4 - Sair\")\n",
        "\n",
        "        opcao = input(\"Escolha uma opção: \").strip()\n",
        "\n",
        "        if opcao == \"1\":\n",
        "            adicionar_contato()\n",
        "        elif opcao == \"2\":\n",
        "            remover_contato()\n",
        "        elif opcao == \"3\":\n",
        "            listar_contatos()\n",
        "        elif opcao == \"4\":\n",
        "            print(\"Saindo do programa... Até mais\")\n",
        "            break\n",
        "        else:\n",
        "            print(\"opção inválida, tente novamente.\")\n",
        "\n",
        "# Executa o menu\n",
        "menu()\n",
        "\n"
      ],
      "metadata": {
        "colab": {
          "base_uri": "https://localhost:8080/"
        },
        "id": "rVMw7aQP6d_N",
        "outputId": "3e782d64-af21-4f6f-a393-a84b43b11585"
      },
      "execution_count": null,
      "outputs": [
        {
          "output_type": "stream",
          "name": "stdout",
          "text": [
            "Gerenciador de contatos Simples\n",
            "\n",
            " GERENCIADOR DE CONTATOS\n",
            "1 - Adicionar contato\n",
            "2 - Remover contato\n",
            "3 - Listar contatos\n",
            "4 - Sair\n",
            "Escolha uma opção: 1\n",
            "Digite o nome do contato: Maria Eduarda Paixão \n",
            "digite o telefone: 11919452567\n",
            "Contato 'Maria Eduarda Paixão' adicionado com sucesso!\n",
            "\n",
            " GERENCIADOR DE CONTATOS\n",
            "1 - Adicionar contato\n",
            "2 - Remover contato\n",
            "3 - Listar contatos\n",
            "4 - Sair\n",
            "Escolha uma opção: 1\n",
            "Digite o nome do contato: Gustavo Henriques\n",
            "digite o telefone: 1193925783\n",
            "Contato 'Gustavo Henriques' adicionado com sucesso!\n",
            "\n",
            " GERENCIADOR DE CONTATOS\n",
            "1 - Adicionar contato\n",
            "2 - Remover contato\n",
            "3 - Listar contatos\n",
            "4 - Sair\n",
            "Escolha uma opção: 3\n",
            "\n",
            " Lista de contatos:\n",
            "Maria Eduarda Paixão: 11919452567\n",
            "Gustavo Henriques: 1193925783\n",
            "\n",
            " GERENCIADOR DE CONTATOS\n",
            "1 - Adicionar contato\n",
            "2 - Remover contato\n",
            "3 - Listar contatos\n",
            "4 - Sair\n",
            "Escolha uma opção: 2\n",
            "digite o nome do contato que deseja deletar: Maria Eduarda Paixão\n",
            "contato 'Maria Eduarda Paixão' removido com sucesso.\n",
            "\n",
            " GERENCIADOR DE CONTATOS\n",
            "1 - Adicionar contato\n",
            "2 - Remover contato\n",
            "3 - Listar contatos\n",
            "4 - Sair\n",
            "Escolha uma opção: 2\n",
            "digite o nome do contato que deseja deletar: ana\n",
            "Contato não encontrado\n",
            "\n",
            " GERENCIADOR DE CONTATOS\n",
            "1 - Adicionar contato\n",
            "2 - Remover contato\n",
            "3 - Listar contatos\n",
            "4 - Sair\n",
            "Escolha uma opção: 3\n",
            "\n",
            " Lista de contatos:\n",
            "Gustavo Henriques: 1193925783\n",
            "\n",
            " GERENCIADOR DE CONTATOS\n",
            "1 - Adicionar contato\n",
            "2 - Remover contato\n",
            "3 - Listar contatos\n",
            "4 - Sair\n",
            "Escolha uma opção: 4\n",
            "👋 Saindo do programa... Até mais!\n"
          ]
        }
      ]
    },
    {
      "cell_type": "markdown",
      "source": [
        "19- Calculadora de Desconto\n",
        "\n",
        "**Enunciado:** Crie um programa que calcule o preço final de um produto após a aplicação de um desconto. O usuário deve inserir o preço original e a porcentagem de desconto, e o programa deve exibir o preço final."
      ],
      "metadata": {
        "id": "Lkdym_tRCgof"
      }
    },
    {
      "cell_type": "code",
      "source": [
        "print(\"Calculadora de Desconto\")\n",
        "# pede o valor ao usuário\n",
        "preco = float(input(\"Digite o preço original: \"))\n",
        "\n",
        "#pede a porcentagem do desconto\n",
        "desconto = float(input(\"digite a porcentagem de desconto: \"))\n",
        "#transforma a porcentagem em decimal\n",
        "desconto = desconto / 100\n",
        "#aplica a logica de desconto.\n",
        "resultado = preco - (preco * desconto)\n",
        "\n",
        "print(f\"O valor final com o desconto aplicado é de {resultado:.2f} R$\")\n",
        "#mostra o resultado final."
      ],
      "metadata": {
        "colab": {
          "base_uri": "https://localhost:8080/"
        },
        "id": "pg8gBCbYCm2x",
        "outputId": "a62d06f2-4028-4d13-c07d-d6c5a4bde416"
      },
      "execution_count": null,
      "outputs": [
        {
          "output_type": "stream",
          "name": "stdout",
          "text": [
            "Calculadora de Desconto\n",
            "Digite o preço original: 1500\n",
            "digite a porcentagem de desconto: 50\n",
            "O valor final com o desconto aplicado é de 750.00R$\n"
          ]
        }
      ]
    },
    {
      "cell_type": "markdown",
      "source": [
        "20- Análise de Dados Simples com Pandas e Matplotlib\n",
        "\n",
        "**Enunciado:** Utilize o Pandas para carregar um dataset simples, como o conjunto de dados do Titanic ou Iris, disponível na biblioteca seaborn. Realize uma análise básica para calcular estatísticas descritivas, como média e mediana de colunas numéricas. Em seguida, utilize o Matplotlib para criar gráficos simples (como histogramas ou gráficos de barras) que visualizem algumas dessas estatísticas ou distribuições."
      ],
      "metadata": {
        "id": "pXN5W67nFTTi"
      }
    },
    {
      "cell_type": "code",
      "source": [
        "#importa a biblioteca Pandas, matplotlib e seaborn\n",
        "\n",
        "import pandas as pd\n",
        "import matplotlib.pyplot as plt\n",
        "import seaborn as sns\n",
        "\n",
        "#que faz os gráficos aparecerem diretamente dentro do notebook.\n",
        "%matplotlib inline\n",
        "\n",
        "# isso serve para carregar o dataset Titanic\n",
        "df = sns.load_dataset('titanic')\n",
        "\n",
        "# mostrar as 5 primeiras linhas, util para verificar se os dados foram carregados corretamente\n",
        "df.head()\n",
        "\n",
        "#ele calcula estatísticas descritivas das colunas numéricas\n",
        "df.describe()\n",
        "\n",
        "# média da idade\n",
        "media_idade = df['age'].mean()\n",
        "print(\"Média da idade:\", media_idade)\n",
        "\n",
        "# mediana da idade\n",
        "mediana_idade = df['age'].median()\n",
        "print(\"Mediana da idade:\", mediana_idade)\n",
        "\n",
        "#média e mediana do valor da passagem\n",
        "media_fare = df['fare'].mean()\n",
        "mediana_fare = df['fare'].median()\n",
        "print(\"Média do valor da passagem:\", media_fare)\n",
        "print(\"Mediana do valor da passagem:\", mediana_fare)\n",
        "\n",
        "# aqui ele cria um histograma da coluna.\n",
        "plt.hist(df['age'].dropna(), bins=20, color='skyblue', edgecolor='black')\n",
        "plt.title(\"Distribuição das Idades dos Passageiros\")\n",
        "plt.xlabel(\"Idade\")\n",
        "plt.ylabel(\"Quantidade\")\n",
        "plt.show()\n",
        "\n",
        "\n",
        "#conta quantos passageiros existem em cada classe\n",
        "df['class'].value_counts().plot(kind='bar', color='salmon')\n",
        "plt.title(\"Número de Passageiros por Classe\")\n",
        "plt.xlabel(\"Classe\")\n",
        "plt.ylabel(\"Quantidade\")\n",
        "plt.show()\n",
        "#Agrupa os passageiros por class\n",
        "df.groupby('class')['fare'].mean().plot(kind='bar', color='lightgreen')\n",
        "plt.title(\"Média da Tarifa por Classe\")\n",
        "plt.xlabel(\"Classe\")\n",
        "plt.ylabel(\"Média da Tarifa\")\n",
        "plt.show()"
      ],
      "metadata": {
        "colab": {
          "base_uri": "https://localhost:8080/",
          "height": 1000
        },
        "id": "VWqW1QwpFl0L",
        "outputId": "dc0dc194-4c0e-4c74-cf52-c0b3d739f44d"
      },
      "execution_count": null,
      "outputs": [
        {
          "output_type": "stream",
          "name": "stdout",
          "text": [
            "Média da idade: 29.69911764705882\n",
            "Mediana da idade: 28.0\n",
            "Média do valor da passagem: 32.204207968574636\n",
            "Mediana do valor da passagem: 14.4542\n"
          ]
        },
        {
          "output_type": "display_data",
          "data": {
            "text/plain": [
              "<Figure size 640x480 with 1 Axes>"
            ],
            "image/png": "[encoded data removed]"
          },
          "metadata": {}
        },
        {
          "output_type": "display_data",
          "data": {
            "text/plain": [
              "<Figure size 640x480 with 1 Axes>"
            ],
            "image/png": "[encoded data removed]"
          },
          "metadata": {}
        },
        {
          "output_type": "stream",
          "name": "stderr",
          "text": [
            "/tmp/ipython-input-2841625975.py:48: FutureWarning: The default of observed=False is deprecated and will be changed to True in a future version of pandas. Pass observed=False to retain current behavior or observed=True to adopt the future default and silence this warning.\n",
            "  df.groupby('class')['fare'].mean().plot(kind='bar', color='lightgreen')\n"
          ]
        },
        {
          "output_type": "display_data",
          "data": {
            "text/plain": [
              "<Figure size 640x480 with 1 Axes>"
            ],
            "image/png": "[encoded data removed]"
          },
          "metadata": {}
        }
      ]
    }
  ]
}